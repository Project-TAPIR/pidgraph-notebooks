{
  "metadata": {
    "language_info": {
      "name": "python",
      "version": "3.7.8",
      "mimetype": "text/x-python",
      "codemirror_mode": {
        "name": "ipython",
        "version": 3
      },
      "pygments_lexer": "ipython3",
      "nbconvert_exporter": "python",
      "file_extension": ".py"
    },
    "kernelspec": {
      "name": "python3",
      "display_name": "Python 3",
      "language": "python"
    },
    "colab": {
      "name": "Kopie von openalex_get_people_by_organization.ipynb",
      "provenance": [],
      "collapsed_sections": []
    }
  },
  "nbformat_minor": 5,
  "nbformat": 4,
  "cells": [
    {
      "cell_type": "markdown",
      "source": [
        "### Query OpenAlex with pagination for all people affiliated with an organization\n",
        "This script queries the OpenAlex API '/authors' endpoint for all authors affiliated with an organization.\n",
        "It takes a ROR URL as input which is used to filter all authors based on their 'last_known_institution.ror' value and outputs their respective ORCID."
      ],
      "metadata": {
        "id": "ac7bedaf-05fb-4eb0-9bf5-e4d1d68a08c3"
      },
      "id": "ac7bedaf-05fb-4eb0-9bf5-e4d1d68a08c3"
    },
    {
      "cell_type": "code",
      "source": [
        "# needed dependency to make HTTP calls\n",
        "import requests"
      ],
      "metadata": {
        "id": "IUqshUWKwSk2"
      },
      "id": "IUqshUWKwSk2",
      "execution_count": 1,
      "outputs": []
    },
    {
      "cell_type": "markdown",
      "source": [
        "The input for the computation is a ROR ID or ROR URL."
      ],
      "metadata": {
        "id": "nSJjdkxGdWll"
      },
      "id": "nSJjdkxGdWll"
    },
    {
      "cell_type": "code",
      "source": [
        "# input parameter\n",
        "example_ror=\"https://ror.org/021k10z87\""
      ],
      "metadata": {
        "id": "7EryzPledIp6"
      },
      "id": "7EryzPledIp6",
      "execution_count": 2,
      "outputs": []
    },
    {
      "cell_type": "markdown",
      "source": [
        "We use it to query OpenAlex at its '`/authors`' endpoint to retrieve all authors that specified the organization's ROR ID in the field '`last_known_institution.ror`'."
      ],
      "metadata": {
        "id": "MiXVDKXid9tq"
      },
      "id": "MiXVDKXid9tq"
    },
    {
      "cell_type": "code",
      "source": [
        "# OpenAlex endpoint to query for authors\n",
        "OPENALEX_API_AUTHORS = \"https://api.openalex.org/authors\"\n",
        "\n",
        "# query all people that are connected to given ROR\n",
        "def download_data(ror):\n",
        "    page = 1\n",
        "    max_page = 1\n",
        "    while page <= max_page:\n",
        "        params = {'filter': 'last_known_institution.ror:'+ror, 'page': page}\n",
        "\n",
        "        response = requests.get(url=OPENALEX_API_AUTHORS,\n",
        "                                params=params,\n",
        "                                headers= {'Content-Type': 'application/json'})\n",
        "        result=response.json()\n",
        "\n",
        "        # calculate max page number in first loop\n",
        "        if max_page == 1:\n",
        "          max_page = determine_max_page(result)\n",
        "        page = page + 1\n",
        "        yield result\n",
        "\n",
        "# calculate max number of result pages\n",
        "def determine_max_page(response_data):\n",
        "    item_count = response_data['meta']['count']\n",
        "    items_per_page = response_data['meta']['per_page']\n",
        "    max_page_ceil = item_count // items_per_page + bool(item_count % items_per_page)\n",
        "    return max_page_ceil\n",
        "\n",
        "\n",
        "# example execution\n",
        "list_of_pages=download_data(example_ror)\n",
        "print(f\"Found {len(list(list_of_pages))} page(s) for ROR {example_ror}\")"
      ],
      "metadata": {
        "trusted": true,
        "colab": {
          "base_uri": "https://localhost:8080/"
        },
        "id": "8b608640-96a8-47d1-9de7-b7d3f6fd5a47",
        "outputId": "8601adef-7c87-42f5-b348-7c9fd5cf5d37"
      },
      "execution_count": 3,
      "outputs": [
        {
          "output_type": "stream",
          "name": "stdout",
          "text": [
            "Found 4 page(s) for ROR https://ror.org/021k10z87\n"
          ]
        }
      ],
      "id": "8b608640-96a8-47d1-9de7-b7d3f6fd5a47"
    },
    {
      "cell_type": "markdown",
      "source": [
        "From the result set we extract each person's metadata and output their respective ORCID and name:"
      ],
      "metadata": {
        "id": "CwRzvAQweuoW"
      },
      "id": "CwRzvAQweuoW"
    },
    {
      "cell_type": "code",
      "source": [
        "# extract all ORCIDs from the result\n",
        "def extract_orcids(data):\n",
        "    for author in data['results']:\n",
        "        if author['ids']['orcid']:\n",
        "            orcid=author['ids']['orcid'].replace(\"https://orcid.org/\", \"\")\n",
        "            display_name=author['display_name']\n",
        "            yield orcid, display_name\n",
        "\n",
        "# example execution\n",
        "list_of_pages=download_data(example_ror)\n",
        "for page in list_of_pages:\n",
        "    for orcid,name in extract_orcids(page):\n",
        "        print(f\"{orcid}, {name}\")"
      ],
      "metadata": {
        "trusted": true,
        "colab": {
          "base_uri": "https://localhost:8080/"
        },
        "id": "1c36737c-4dcf-42d5-80e2-802f0a7a8326",
        "outputId": "44e94a6b-3ba1-4f06-aa25-2202a7850883"
      },
      "execution_count": 4,
      "outputs": [
        {
          "output_type": "stream",
          "name": "stdout",
          "text": [
            "0000-0002-3824-5375, Nicole Deitelhoff\n",
            "0000-0002-7348-7206, Jonas Wolff\n",
            "0000-0002-6891-770X, Francis O’Connor\n",
            "0000-0002-3536-8898, Felix Anderl\n",
            "0000-0002-4259-6071, Felix S. Bethke\n",
            "0000-0002-3136-0901, Thorsten Gromes\n",
            "0000-0001-9698-2616, Annika Elena Poppe\n",
            "0000-0002-3783-6130, Irene Weipert-Fenner\n",
            "0000-0002-4793-9010, Arvid Bell\n",
            "0000-0002-7012-6739, Peter Kreuzer\n",
            "0000-0002-0143-5183, Christina Kohler\n"
          ]
        }
      ],
      "id": "1c36737c-4dcf-42d5-80e2-802f0a7a8326"
    }
  ]
}