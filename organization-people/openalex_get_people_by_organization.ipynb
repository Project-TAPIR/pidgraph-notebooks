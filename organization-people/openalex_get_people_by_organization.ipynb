{
 "cells": [
  {
   "cell_type": "markdown",
   "id": "ac7bedaf-05fb-4eb0-9bf5-e4d1d68a08c3",
   "metadata": {
    "id": "ac7bedaf-05fb-4eb0-9bf5-e4d1d68a08c3"
   },
   "source": [
    "### Query OpenAlex for all people affiliated with an organization\n",
    "This script queries the [OpenAlex API](https://docs.openalex.org/api) via its '`/authors`' endpoint for all authors affiliated with an organization.\n",
    "It takes a ROR URL as input which is used to retrieve all authors that specified the ROR ID in their metadata field '`last_known_institution.ror`'. From the resulting list of people we output their respective ORCID iDs."
   ]
  },
  {
   "cell_type": "code",
   "execution_count": null,
   "id": "IUqshUWKwSk2",
   "metadata": {
    "executionInfo": {
     "elapsed": 8,
     "status": "ok",
     "timestamp": 1643210415322,
     "user": {
      "displayName": "",
      "photoUrl": "",
      "userId": ""
     },
     "user_tz": -60
    },
    "id": "IUqshUWKwSk2"
   },
   "outputs": [],
   "source": [
    "# Prerequisites:\n",
    "import requests         # dependency to make HTTP calls"
   ]
  },
  {
   "cell_type": "markdown",
   "id": "nSJjdkxGdWll",
   "metadata": {
    "id": "nSJjdkxGdWll"
   },
   "source": [
    "The input for the query is a ROR URL, e.g. '`https://ror.org/021k10z87`'"
   ]
  },
  {
   "cell_type": "code",
   "execution_count": 2,
   "id": "7EryzPledIp6",
   "metadata": {
    "executionInfo": {
     "elapsed": 6,
     "status": "ok",
     "timestamp": 1643210415322,
     "user": {
      "displayName": "",
      "photoUrl": "",
      "userId": ""
     },
     "user_tz": -60
    },
    "id": "7EryzPledIp6"
   },
   "outputs": [],
   "source": [
    "# input parameter\n",
    "example_ror=\"https://ror.org/021k10z87\""
   ]
  },
  {
   "cell_type": "markdown",
   "id": "MiXVDKXid9tq",
   "metadata": {
    "id": "MiXVDKXid9tq"
   },
   "source": [
    "We use it to query the OpenAlex API for authors that specified the organization's ROR ID in the field '`last_known_institution.ror`'.  Since the OpenAlex API uses [pagination](https://docs.openalex.org/api/get-lists-of-entities#pagination), we need to loop through all pages to get the complete result set."
   ]
  },
  {
   "cell_type": "code",
   "execution_count": 3,
   "id": "8b608640-96a8-47d1-9de7-b7d3f6fd5a47",
   "metadata": {
    "executionInfo": {
     "elapsed": 5,
     "status": "ok",
     "timestamp": 1643210415323,
     "user": {
      "displayName": "",
      "photoUrl": "",
      "userId": ""
     },
     "user_tz": -60
    },
    "id": "8b608640-96a8-47d1-9de7-b7d3f6fd5a47"
   },
   "outputs": [],
   "source": [
    "# OpenAlex endpoint to query for authors\n",
    "OPENALEX_API_AUTHORS = \"https://api.openalex.org/authors\"\n",
    "\n",
    "# query all people that are connected to given ROR\n",
    "def query_openalex_for_orga2people(ror):\n",
    "    page = 1\n",
    "    max_page = 1\n",
    "    \n",
    "    while page <= max_page:\n",
    "        params = {'filter': 'last_known_institution.ror:' + ror, 'page': page}\n",
    "        response = requests.get(url=OPENALEX_API_AUTHORS,\n",
    "                                params=params,\n",
    "                                headers= {'Accept': 'application/json'})\n",
    "        response.raise_for_status()\n",
    "        result=response.json()\n",
    "\n",
    "        # calculate max page number in first loop\n",
    "        if max_page == 1:\n",
    "            max_page = determine_max_page(result)\n",
    "        page = page + 1\n",
    "        yield result\n",
    "\n",
    "# calculate max number of result pages\n",
    "def determine_max_page(response_data):\n",
    "    item_count = response_data['meta']['count']\n",
    "    items_per_page = response_data['meta']['per_page']\n",
    "    max_page_ceil = item_count // items_per_page + bool(item_count % items_per_page)\n",
    "    return max_page_ceil\n",
    "\n",
    "\n",
    "#--- example execution\n",
    "list_of_pages=query_openalex_for_orga2people(example_ror)"
   ]
  },
  {
   "cell_type": "markdown",
   "id": "CwRzvAQweuoW",
   "metadata": {
    "id": "CwRzvAQweuoW"
   },
   "source": [
    "From the resulting list of people we extract and print out each ORCID and name."
   ]
  },
  {
   "cell_type": "code",
   "execution_count": 4,
   "id": "1c36737c-4dcf-42d5-80e2-802f0a7a8326",
   "metadata": {
    "colab": {
     "base_uri": "https://localhost:8080/"
    },
    "executionInfo": {
     "elapsed": 3186,
     "status": "ok",
     "timestamp": 1643210418504,
     "user": {
      "displayName": "",
      "photoUrl": "",
      "userId": ""
     },
     "user_tz": -60
    },
    "id": "1c36737c-4dcf-42d5-80e2-802f0a7a8326",
    "outputId": "5efd986b-0b92-4b0d-e5cc-a65aeae2785e"
   },
   "outputs": [
    {
     "name": "stdout",
     "output_type": "stream",
     "text": [
      "0000-0002-3824-5375, Nicole Deitelhoff\n",
      "0000-0002-7348-7206, Jonas Wolff\n",
      "0000-0002-6891-770X, Francis O’Connor\n",
      "0000-0002-3536-8898, Felix Anderl\n",
      "0000-0002-4259-6071, Felix S. Bethke\n",
      "0000-0002-3136-0901, Thorsten Gromes\n",
      "0000-0001-9698-2616, Annika Elena Poppe\n",
      "0000-0002-3783-6130, Irene Weipert-Fenner\n",
      "0000-0002-4793-9010, Arvid Bell\n",
      "0000-0002-7012-6739, Peter Kreuzer\n",
      "0000-0002-0143-5183, Christina Kohler\n"
     ]
    }
   ],
   "source": [
    "# from the result pages we get from the OpenAlex API, extract the data about authors\n",
    "def extract_authors_from_page(page):\n",
    "    return [author for author in page.get('results') or []]\n",
    "\n",
    "# extract ORCID from author\n",
    "def extract_orcid(author):\n",
    "    orcid=author.get('ids', {}).get('orcid') or \"\"\n",
    "    orcid_id=orcid.replace(\"https://orcid.org/\", \"\") if orcid else orcid\n",
    "    name=author.get('display_name', \"\")\n",
    "    return orcid_id, name\n",
    "\n",
    "\n",
    "#--- example execution\n",
    "for page in list_of_pages or []:\n",
    "    authors=extract_authors_from_page(page)\n",
    "    for author in authors or []:\n",
    "        orcid, name=extract_orcid(author)\n",
    "        if orcid:\n",
    "            print(f\"{orcid}, {name}\")"
   ]
  }
 ],
 "metadata": {
  "colab": {
   "collapsed_sections": [],
   "name": "openalex_get_people_by_organization.ipynb",
   "provenance": [
    {
     "file_id": "https://github.com/Project-TAPIR/pidgraph-notebooks/blob/organization-people/organization-people/openalex_get_people_by_organization.ipynb",
     "timestamp": 1643210429142
    }
   ]
  },
  "kernelspec": {
   "display_name": "Python 3 (ipykernel)",
   "language": "python",
   "name": "python3"
  },
  "language_info": {
   "codemirror_mode": {
    "name": "ipython",
    "version": 3
   },
   "file_extension": ".py",
   "mimetype": "text/x-python",
   "name": "python",
   "nbconvert_exporter": "python",
   "pygments_lexer": "ipython3",
   "version": "3.9.6"
  }
 },
 "nbformat": 4,
 "nbformat_minor": 5
}
