{
  "nbformat": 4,
  "nbformat_minor": 0,
  "metadata": {
    "colab": {
      "name": "Kopie von freya_get_people_by_organization.ipynb",
      "provenance": [],
      "authorship_tag": "ABX9TyOmJ0iXz6S7I6+M0BPdKvV8"
    },
    "kernelspec": {
      "name": "python3",
      "display_name": "Python 3"
    },
    "language_info": {
      "name": "python"
    }
  },
  "cells": [
    {
      "cell_type": "markdown",
      "source": [
        "### Query the FREYA PID Graph with pagination for all people affiliated with an organization\n",
        "\n",
        "This notebook queries Datacite's GraphQL API for the FREYA PID Graph to retrieve all people affiliated with an organization. It takes a ROR URL as input and outputs all ORCIDs belonging to people affiliated with the respective organization."
      ],
      "metadata": {
        "id": "etxiXTW668ZD"
      }
    },
    {
      "cell_type": "code",
      "source": [
        "# needed dependency to make HTTP calls\n",
        "import requests"
      ],
      "metadata": {
        "id": "8Mk7-aYc7x3A"
      },
      "execution_count": 1,
      "outputs": []
    },
    {
      "cell_type": "markdown",
      "source": [
        "The input for the computation is a ROR ID or ROR URL."
      ],
      "metadata": {
        "id": "J31_ejB6bWqd"
      }
    },
    {
      "cell_type": "code",
      "source": [
        "# input parameter for all further computations\n",
        "example_ror=\"https://ror.org/021k10z87\""
      ],
      "metadata": {
        "id": "UwYUsbnMbZnI"
      },
      "execution_count": 2,
      "outputs": []
    },
    {
      "cell_type": "markdown",
      "source": [
        "We use it to query Datacite's GraphQL API for the organization and all its connected people using pagination."
      ],
      "metadata": {
        "id": "ba_A3Anpbl4P"
      }
    },
    {
      "cell_type": "code",
      "source": [
        "# Datacite's GraphQL endpoint for the FREYA PID Graph\n",
        "DATACITE_GRAPHQL_API = \"https://api.datacite.org/graphql\"\n",
        "# Query to retrieve an organization and all its affiliated people\n",
        "QUERY_ORGA2PEOPLE = \"\"\"query organization($ror :ID!, $after:String){\n",
        "organization(id: $ror) {\n",
        "    people(first: 1000, after: $after) {\n",
        "      totalCount\n",
        "      pageInfo {\n",
        "        endCursor\n",
        "        hasNextPage\n",
        "        }\n",
        "\n",
        "      nodes {\n",
        "        id\n",
        "        name\n",
        "        givenName\n",
        "      }\n",
        "    }\n",
        "  }\n",
        "}\"\"\"\n",
        "\n",
        "# query all people that are connected to given ROR\n",
        "def download_data(ror):\n",
        "    continue_paginating = True\n",
        "    cursor=\"\"\n",
        "    while continue_paginating:\n",
        "        vars = {'ror': ror, 'after': cursor}\n",
        "        response = requests.post(url=DATACITE_GRAPHQL_API,\n",
        "                                 json={'query': QUERY_ORGA2PEOPLE, 'variables': vars},\n",
        "                                 headers={'Content-Type': 'application/json'})\n",
        "        result=response.json()\n",
        "\n",
        "        # check if next page exists and set cursor to next page\n",
        "        continue_paginating = has_next_page(result)\n",
        "        cursor = next_cursor(result)\n",
        "        yield result\n",
        "\n",
        "# check if there is another page with results to query\n",
        "def has_next_page(response_data):\n",
        "    return response_data['data']['organization']['people']['pageInfo']['hasNextPage']\n",
        "\n",
        "# set cursor to next value\n",
        "def next_cursor(response_data):\n",
        "    return response_data['data']['organization']['people']['pageInfo']['endCursor']\n",
        "\n",
        "\n",
        "# example execution\n",
        "list_of_pages=download_data(example_ror)\n",
        "print(f\"Found {len(list(list_of_pages))} page(s) for ROR {example_ror}\")\n"
      ],
      "metadata": {
        "colab": {
          "base_uri": "https://localhost:8080/"
        },
        "id": "7FAu2l388OeD",
        "outputId": "17d5a48e-ac90-4988-cd6d-ba23b65f9a72"
      },
      "execution_count": 3,
      "outputs": [
        {
          "output_type": "stream",
          "name": "stdout",
          "text": [
            "Found 1 page(s) for ROR https://ror.org/021k10z87\n"
          ]
        }
      ]
    },
    {
      "cell_type": "markdown",
      "source": [
        "From the result we extract each person's metadata and output their respective ORCID and name:"
      ],
      "metadata": {
        "id": "2lR-J8vUcI5-"
      }
    },
    {
      "cell_type": "code",
      "source": [
        "# extract all ORCIDs from the result\n",
        "def extract_orcids(data):\n",
        "    for person in data['data']['organization']['people']['nodes']:\n",
        "      orcid=person['id'].replace(\"https://orcid.org/\", \"\")\n",
        "      name=person['name']\n",
        "      yield orcid, name\n",
        "\n",
        "\n",
        "# example execution\n",
        "list_of_pages=download_data(example_ror)\n",
        "for page in list_of_pages:\n",
        "    for orcid,name in extract_orcids(page):\n",
        "        print(f\"{orcid}, {name}\")"
      ],
      "metadata": {
        "colab": {
          "base_uri": "https://localhost:8080/"
        },
        "id": "vDlKBgf68QpW",
        "outputId": "097cd79d-7014-4703-9cda-25f4e4e7ccfd"
      },
      "execution_count": 4,
      "outputs": [
        {
          "output_type": "stream",
          "name": "stdout",
          "text": [
            "0000-0002-3783-6130, Irene Weipert-Fenner\n",
            "0000-0002-5452-0488, Hans-Joachim Spanger\n",
            "0000-0001-6746-1248, Anton Peez\n",
            "0000-0001-6731-5304, Julia Eckert\n",
            "0000-0003-1575-9688, Hendrik Simon\n",
            "0000-0002-1712-2624, Julian Junk\n",
            "0000-0003-0035-5840, Raphael Oidtmann\n",
            "0000-0002-8739-2486, Elvira Rosert\n",
            "0000-0002-5925-043X, Ariadne Natal\n",
            "0000-0002-7012-6739, Peter Kreuzer\n",
            "0000-0001-7843-4480, Dirk Peters\n",
            "0000-0003-0039-9827, Eldad Ben Aharon\n",
            "0000-0001-6823-6819, Janna Lisa Chalmovsky\n",
            "0000-0002-4259-6071, Felix S. Bethke\n",
            "0000-0001-7286-3575, Paul Chambers\n",
            "0000-0003-1940-8877, Mikhail Polianskii\n"
          ]
        }
      ]
    }
  ]
}