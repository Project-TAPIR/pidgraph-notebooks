{
 "cells": [
  {
   "cell_type": "markdown",
   "metadata": {
    "id": "u4HQPvDxKyjs"
   },
   "source": [
    "### Query ORCID for people affiliated with an organization and filter for current employees only\n",
    "\n",
    "This notebook queries the [ORCID Public API](https://api.orcid.org/v3.0/) for all [people affiliated with an organization](https://info.orcid.org/faq/how-do-i-find-orcid-record-holders-at-my-institution/) and additionally narrows down the affiliation to people **currently employed** by the organization. From the resulting list of people we output the ORCID iDs.\n",
    "\n",
    "*Disclosure:\n",
    "The process of querying the ROR API for additional identifiers and using them to query the ORCID API for affiliated people is the same as used by the [FREYA PID Graph](https://blog.datacite.org/powering-the-pid-graph/) and is implemented in [DataCite Application API](https://doi.org/10.5438/8gb0-v673).*"
   ]
  },
  {
   "cell_type": "code",
   "execution_count": 1,
   "metadata": {
    "id": "5s5h9I5OKefn",
    "scrolled": true
   },
   "outputs": [],
   "source": [
    "# Prerequisites:\n",
    "import requests                        # dependency to make HTTP calls\n",
    "from benedict import benedict          # dependency for dealing with json"
   ]
  },
  {
   "cell_type": "markdown",
   "metadata": {
    "id": "JqXxTHg026Tk"
   },
   "source": [
    "The input for this notebook is a ROR URL or ID, e.g. '`https://ror.org/04aj4c181`' or '`04aj4c181`'."
   ]
  },
  {
   "cell_type": "code",
   "execution_count": 2,
   "metadata": {
    "executionInfo": {
     "elapsed": 8,
     "status": "ok",
     "timestamp": 1643285312923,
     "user": {
      "displayName": "",
      "photoUrl": "",
      "userId": ""
     },
     "user_tz": -60
    },
    "id": "tAoAtVZP25JT"
   },
   "outputs": [],
   "source": [
    "example_ror=\"https://ror.org/04aj4c181\""
   ]
  },
  {
   "cell_type": "markdown",
   "metadata": {
    "id": "mmV5ar17CiSO"
   },
   "source": [
    "### Organization metadata\n",
    "The first step is to call the [ROR API](https://ror.readme.io/) for the organization's metadata."
   ]
  },
  {
   "cell_type": "code",
   "execution_count": 3,
   "metadata": {
    "executionInfo": {
     "elapsed": 763,
     "status": "ok",
     "timestamp": 1643285313679,
     "user": {
      "displayName": "",
      "photoUrl": "",
      "userId": ""
     },
     "user_tz": -60
    },
    "id": "FKpMNpLLLYaZ",
    "pycharm": {
     "is_executing": true
    }
   },
   "outputs": [],
   "source": [
    "# URL to ROR API\n",
    "ROR_API_ENDPOINT = \"https://api.ror.org/organizations\"\n",
    "\n",
    "# query ROR API for organization's metadata\n",
    "def query_ror_api(ror):\n",
    "    complete_url=requests.utils.requote_uri(ROR_API_ENDPOINT + \"/\" + ror)\n",
    "    response = requests.get(url=complete_url,\n",
    "                      headers={'Accept': 'application/json'})\n",
    "    response.raise_for_status()\n",
    "    result=response.json()\n",
    "    return result\n",
    "\n",
    "#--- example execution\n",
    "ror_data=query_ror_api(example_ror)\n",
    "# if you want to see the retrieved metadata, uncomment next lines\n",
    "#import pprint\n",
    "#pprint.pprint(ror_data)"
   ]
  },
  {
   "cell_type": "markdown",
   "metadata": {
    "id": "mxOGfasxMAaA"
   },
   "source": [
    "In particular we are interested in the organization's Grid ID and Wikidata ID."
   ]
  },
  {
   "cell_type": "code",
   "execution_count": 4,
   "metadata": {
    "colab": {
     "base_uri": "https://localhost:8080/"
    },
    "executionInfo": {
     "elapsed": 6,
     "status": "ok",
     "timestamp": 1643285313679,
     "user": {
      "displayName": "",
      "photoUrl": "",
      "userId": ""
     },
     "user_tz": -60
    },
    "id": "wSwVZgSELik3",
    "outputId": "c668459d-9115-4070-a28e-decab0d1d623",
    "pycharm": {
     "is_executing": true
    }
   },
   "outputs": [
    {
     "name": "stdout",
     "output_type": "stream",
     "text": [
      "grid ID: grid.461819.3\n",
      "Wikidata ID: Q2399120\n"
     ]
    }
   ],
   "source": [
    "def extract_grid_from_ror_data(ror_data):\n",
    "    orga_dict = benedict.from_json(ror_data)\n",
    "    path_to_grid_id = \"external_ids.GRID.all\"\n",
    "    grid_id = orga_dict.get(path_to_grid_id)\n",
    "    return grid_id\n",
    "\n",
    "def extract_wikidata_from_ror_data(ror_data):\n",
    "    orga_dict = benedict.from_json(ror_data)\n",
    "    path_to_wikidata_id = \"external_ids.Wikidata.all[0]\"\n",
    "    wikidata_id = orga_dict.get(path_to_wikidata_id)\n",
    "    return wikidata_id\n",
    "\n",
    "\n",
    "#--- example execution\n",
    "organization_grid_id=extract_grid_from_ror_data(ror_data)\n",
    "print(\"grid ID: \" + str(organization_grid_id or ''))\n",
    "organization_wikidata_id=extract_wikidata_from_ror_data(ror_data)\n",
    "print(\"Wikidata ID: \" + str(organization_wikidata_id or ''))"
   ]
  },
  {
   "cell_type": "markdown",
   "metadata": {
    "id": "oLZD9V1lzyQ4"
   },
   "source": [
    "We use the Wikidata ID of the organization to query Wikidata for the Ringgold ID of the organization."
   ]
  },
  {
   "cell_type": "code",
   "execution_count": 5,
   "metadata": {
    "colab": {
     "base_uri": "https://localhost:8080/"
    },
    "executionInfo": {
     "elapsed": 543,
     "status": "ok",
     "timestamp": 1643285314219,
     "user": {
      "displayName": "",
      "photoUrl": "",
      "userId": ""
     },
     "user_tz": -60
    },
    "id": "v8S4dwfM0A-1",
    "outputId": "79360115-9b93-4ac3-9472-711a0df3a700",
    "pycharm": {
     "is_executing": true
    }
   },
   "outputs": [
    {
     "name": "stdout",
     "output_type": "stream",
     "text": [
      "Ringgold ID: 28359\n"
     ]
    }
   ],
   "source": [
    "WIKIDATA_API = \"https://www.wikidata.org/w/api.php\"\n",
    "\n",
    "# query Wikidata with an organization's Wikidata ID\n",
    "def query_wikidata_api(wikidata_id):\n",
    "    response = requests.get(url=WIKIDATA_API,\n",
    "                          params={'action': 'wbgetentities', 'ids': wikidata_id, 'props':'claims', 'format':'json'},\n",
    "                          headers={'Accept': 'application/json'})\n",
    "    response.raise_for_status()\n",
    "    result=response.json()\n",
    "    return result\n",
    "\n",
    "def extract_ringgold_from_wikidata_data(wikidata, wikidata_id):\n",
    "    wikidata_dict = benedict.from_json(wikidata)\n",
    "    path_to_ringgold_id = f\"entities.{wikidata_id}.claims.P3500[0].mainsnak.datavalue.value\"\n",
    "    ringgold_id = wikidata_dict.get(path_to_ringgold_id)\n",
    "    return ringgold_id\n",
    "\n",
    "\n",
    "#--- example execution\n",
    "wikidata_data = query_wikidata_api(organization_wikidata_id)\n",
    "organization_ringgold_id = extract_ringgold_from_wikidata_data(wikidata_data, organization_wikidata_id)\n",
    "print(\"Ringgold ID: \" + str(organization_ringgold_id or ''))"
   ]
  },
  {
   "cell_type": "markdown",
   "metadata": {
    "id": "Tx8YWNLZ7_fx"
   },
   "source": [
    "To sum up the process up until now:\n",
    "1.   We used an organization's ROR ID to query the ROR API for an organization's Grid ID and Wikidata ID. \n",
    "2. We use Wikidata as intermediary to retrieve the Ringgold ID of the organization.\n",
    "\n",
    "![organization_data.png](data:image/png;base64,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)"
   ]
  },
  {
   "cell_type": "markdown",
   "metadata": {
    "id": "tQ0ZhMZk_Wcz"
   },
   "source": [
    "### Connection organization -> people\n",
    "The second part of the process is to query for the people affiliated with the organization. For this we use the ORCID API and search for people affiliated with an organization like it is explained in the ORCID tutorial [\"How do I find ORCID record holders at my institution?\"](https://info.orcid.org/faq/how-do-i-find-orcid-record-holders-at-my-institution/). As parameters for the query we use the Grid ID and Ringgold ID for the organization.\n"
   ]
  },
  {
   "cell_type": "code",
   "execution_count": 6,
   "metadata": {
    "colab": {
     "base_uri": "https://localhost:8080/"
    },
    "executionInfo": {
     "elapsed": 246,
     "status": "ok",
     "timestamp": 1643285314461,
     "user": {
      "displayName": "",
      "photoUrl": "",
      "userId": ""
     },
     "user_tz": -60
    },
    "id": "LwhzE2Nc_J-x",
    "outputId": "c0804214-1ca6-4600-df92-841e00303237",
    "pycharm": {
     "is_executing": true
    }
   },
   "outputs": [
    {
     "name": "stdout",
     "output_type": "stream",
     "text": [
      "Number of affiliated people: 90\n",
      "0000-0001-8258-2603, Noreen Krause\n",
      "0000-0002-8913-9011, Sandra Mierz\n",
      "0000-0002-2013-6920, Gazi Yücel\n",
      "0000-0001-6836-1193, Marleen Burger\n",
      "0000-0001-9924-9153, Allard Oelen\n",
      "0000-0001-5232-9236, Sebastian Becker\n",
      "0000-0003-3975-5374, Hassan Hussein\n",
      "0000-0002-0687-5460, Britta Dreyer\n",
      "0000-0001-8777-2780, Mohamad Yaser Jaradeh\n",
      "0000-0003-2237-7725, Olga Lezhnina\n",
      "0000-0003-3922-8638, Mathias Begoin\n",
      "0000-0002-5610-9908, Evelyn Navarrete None\n",
      "0000-0003-2749-7988, Clarissa Schnabel\n",
      "0000-0001-9758-904X, Susanne Nicolai\n",
      "0000-0003-2718-0913, Sven Strobel\n",
      "0000-0002-2614-1253, Oleg Nekhayenko\n",
      "0000-0002-1266-4029, Anke Tina Krüger\n",
      "0000-0003-0929-7528, Markus Prinzhorn\n",
      "0000-0002-4311-5620, Mitra Safaei\n",
      "0000-0002-1595-3213, Philip Strömert\n",
      "0000-0001-5135-5758, Katrin Leinweber\n",
      "0000-0002-3680-2086, Jens Kösters\n",
      "0000-0002-6347-5666, David Morris\n",
      "0000-0002-2874-4832, Matti Stöhr\n",
      "0000-0001-5375-3063, Nicola Bieg\n",
      "0000-0003-1574-4865, Alexander Pöche\n",
      "0000-0001-5322-0478, Judith Ludwig\n",
      "0000-0002-1407-7362, Erhun Giray TUNCAY\n",
      "0000-0003-1668-3304, Wolfgang Gritz\n",
      "0000-0002-6802-1241, Eric Müller-Budack\n",
      "0000-0001-9248-5444, Junaid Ahmed Ghauri\n",
      "0000-0003-2257-0517, Peter Löwe\n",
      "0000-0001-5693-4708, Cedrik Zellmann\n",
      "0000-0002-0938-0340, Dana Vosberg\n",
      "0000-0002-0698-2864, Sören Auer\n",
      "0000-0003-2510-0529, Xenia van Edig\n",
      "0000-0002-3060-7052, Felix Engel\n",
      "0000-0002-2342-0636, Anja Mielke\n",
      "0000-0002-0021-9729, Salomon KABONGO KABENAMUALU\n",
      "0000-0003-0524-1834, Bernhard Tempel\n",
      "0000-0001-8824-8390, Jessika Rücknagel\n",
      "0000-0002-7760-5708, Nils Nommensen\n",
      "0000-0002-0719-5440, Katharina Schulz\n",
      "0000-0003-1537-2862, Svantje Lilienthal\n",
      "0000-0001-6260-7578, Linna Lu\n",
      "0000-0002-5320-0220, Martin Nissen\n",
      "0000-0003-1132-7220, Silvia Czerwinski\n",
      "0000-0001-5336-6899, Oliver Karras\n",
      "0000-0001-9133-4978, Julia Maria Struß\n",
      "0000-0001-5492-3212, Markus Stocker\n",
      "0000-0002-3278-0422, Helene Brinken\n",
      "0000-0002-3447-0575, Anna Beer\n",
      "0000-0002-1851-0442, Abiodun Ogunyemi\n",
      "0000-0002-1442-335X, Disha Purohit\n",
      "0000-0001-7408-0611, Rigo Wenning\n",
      "0000-0002-7917-3101, Elzbieta Gabrys-Deutscher\n",
      "0000-0002-3075-7640, Ina Blümel\n",
      "0000-0002-7839-3698, André Castro\n",
      "0000-0002-9649-7829, Anette Cordts\n",
      "0000-0003-1702-8707, Samaneh Jozashoori\n",
      "0000-0001-8080-5308, Luis Ramos\n",
      "0000-0002-9362-4968, Anna-Karina Renziehausen\n",
      "0000-0003-1043-4964, Anette Ganske\n",
      "0000-0003-4081-9646, Pia Rudnik\n",
      "0000-0002-1452-9509, Anett Hoppe\n",
      "0000-0002-8579-9717, Simon Worthington\n",
      "0000-0003-4040-9073, Gelareh Mofakhamsanie\n",
      "0000-0001-8920-7515, David Hopf\n",
      "0000-0002-2593-8754, Lucia Sohmen\n",
      "0000-0003-0226-3608, Christian Otto\n",
      "0000-0003-3320-5187, Robert Strötgen\n",
      "0000-0001-5712-1565, Shahi DOST\n",
      "0000-0003-1800-0351, Esther Tobschall\n",
      "0000-0003-0232-7085, Lambert Heller\n",
      "0000-0002-3557-9345, Abdolali Faraji\n",
      "0000-0002-7992-5668, Nelli Taller\n",
      "0000-0002-0310-5831, Sarah Dellmann\n",
      "0000-0002-9767-3257, Inken Feldsien-Sudhaus\n",
      "0000-0001-5839-0177, Andreas Lütjen\n",
      "0000-0002-7325-5114, Brian Cahill\n",
      "0000-0003-3184-5930, Anita Eppelin\n",
      "0000-0002-0474-2410, Stephanie Hagemann-Wilholt\n",
      "0000-0003-2499-7741, Christian Hauschke\n",
      "0000-0002-5124-0165, Benjamin Kampe\n",
      "0000-0001-7086-6211, Franziska Altemeier\n",
      "0000-0002-1019-9151, Susanne Arndt\n",
      "0000-0002-1019-3606, Anna Kasprzik\n",
      "0000-0003-3709-5608, Michelle Lindlar\n",
      "0000-0002-4450-349X, José Alberto Benítez-Andrades\n",
      "0000-0001-7460-7794, Paloma Marín-Arraiza\n"
     ]
    }
   ],
   "source": [
    "# URL for ORCID search API\n",
    "ORCID_SEARCH_API = \"https://pub.orcid.org/v3.0/expanded-search/\"\n",
    "\n",
    "# query ORCID with an organization's Grid ID and Ringgold\n",
    "def query_orcid_for_affiliations(grid_id, ringgold_id):\n",
    "    query = f\"grid-org-id:{grid_id}\" if grid_id else \"\"\n",
    "    query += \" OR \" if grid_id and ringgold_id else \"\"\n",
    "    query += f\"ringgold-org-id:{ringgold_id}\" if ringgold_id else \"\"\n",
    "\n",
    "    response = requests.get(url=ORCID_SEARCH_API,\n",
    "                          params={'q': query},\n",
    "                          headers={'Accept': 'application/json'})\n",
    "    response.raise_for_status()\n",
    "    result=response.json()\n",
    "    return result\n",
    "\n",
    "def extract_orcids_from_affiliated_people(affiliated_people):\n",
    "    people_dict = benedict.from_json(affiliated_people)\n",
    "    for person in people_dict.get('expanded-result'):\n",
    "        orcid=benedict(person).get('orcid-id')\n",
    "        given_name=benedict(person).get('given-names') \n",
    "        family_name=benedict(person).get('family-names')\n",
    "        name = f\"{given_name} {family_name}\"\n",
    "        yield orcid,name\n",
    "\n",
    "\n",
    "#-- example execution\n",
    "affiliated_people = query_orcid_for_affiliations(organization_grid_id, organization_ringgold_id)\n",
    "affiliated_count = affiliated_people.get('num-found','')\n",
    "print(f\"Number of affiliated people: {affiliated_count}\")\n",
    "\n",
    "affiliated_orcids= extract_orcids_from_affiliated_people(affiliated_people)\n",
    "for orcid,name in affiliated_orcids:\n",
    "    print(f\"{orcid}, {name}\")"
   ]
  },
  {
   "cell_type": "markdown",
   "metadata": {
    "id": "DUMnQM62MXns"
   },
   "source": [
    "### Filter for current employees\n",
    "The connection between organization and people via their affiliation as defined by the ORCID API is quite abroad: \n",
    "\n",
    "*   It contains each person that used the organization identifier in one of the sections [employment, education & qualifications, membership & service, invited positions & distinctions](https://info.orcid.org/documentation/integration-guide/working-with-organization-identifiers/) in their ORCID record.\n",
    "* Furthermore the connection is not limited to the current affiliation but also contains people that were affiliated with the organization years ago.\n",
    "\n",
    "--> \n",
    "\n",
    "That's why we decided to use the ORCID iDs we retrieve via the search API to query the ORCID API for each of their detailed record to narrow the result set down to only people who \n",
    "* use one of the organization's IDs in the employment section\n",
    "* and that are currently employed (end-date of employment is empty)"
   ]
  },
  {
   "cell_type": "code",
   "execution_count": 7,
   "metadata": {
    "colab": {
     "base_uri": "https://localhost:8080/"
    },
    "executionInfo": {
     "elapsed": 30794,
     "status": "ok",
     "timestamp": 1643285345253,
     "user": {
      "displayName": "",
      "photoUrl": "",
      "userId": ""
     },
     "user_tz": -60
    },
    "id": "6Ac2mk4vOz1A",
    "outputId": "7ef40f11-fffd-447c-80e1-0fb28f6ae767",
    "pycharm": {
     "is_executing": true
    }
   },
   "outputs": [
    {
     "name": "stdout",
     "output_type": "stream",
     "text": [
      "Number of current employees: 59\n",
      "0000-0002-8913-9011, Sandra Mierz\n",
      "0000-0002-2013-6920, Gazi Yücel\n",
      "0000-0001-6836-1193, Marleen Burger\n",
      "0000-0003-3975-5374, Hassan Hussein\n",
      "0000-0003-3922-8638, Mathias Begoin\n",
      "0000-0002-5610-9908, Evelyn Navarrete None\n",
      "0000-0003-2749-7988, Clarissa Schnabel\n",
      "0000-0001-9758-904X, Susanne Nicolai\n",
      "0000-0003-2718-0913, Sven Strobel\n",
      "0000-0002-2614-1253, Oleg Nekhayenko\n",
      "0000-0003-0929-7528, Markus Prinzhorn\n",
      "0000-0002-1595-3213, Philip Strömert\n",
      "0000-0001-5135-5758, Katrin Leinweber\n",
      "0000-0002-3680-2086, Jens Kösters\n",
      "0000-0002-6347-5666, David Morris\n",
      "0000-0002-2874-4832, Matti Stöhr\n",
      "0000-0001-5375-3063, Nicola Bieg\n",
      "0000-0003-1574-4865, Alexander Pöche\n",
      "0000-0001-5322-0478, Judith Ludwig\n",
      "0000-0002-1407-7362, Erhun Giray TUNCAY\n",
      "0000-0002-6802-1241, Eric Müller-Budack\n",
      "0000-0001-9248-5444, Junaid Ahmed Ghauri\n",
      "0000-0002-0938-0340, Dana Vosberg\n",
      "0000-0002-0698-2864, Sören Auer\n",
      "0000-0003-2510-0529, Xenia van Edig\n",
      "0000-0002-3060-7052, Felix Engel\n",
      "0000-0002-2342-0636, Anja Mielke\n",
      "0000-0001-8824-8390, Jessika Rücknagel\n",
      "0000-0002-0719-5440, Katharina Schulz\n",
      "0000-0001-6260-7578, Linna Lu\n",
      "0000-0003-1132-7220, Silvia Czerwinski\n",
      "0000-0001-5336-6899, Oliver Karras\n",
      "0000-0001-5492-3212, Markus Stocker\n",
      "0000-0002-3278-0422, Helene Brinken\n",
      "0000-0002-3447-0575, Anna Beer\n",
      "0000-0002-1851-0442, Abiodun Ogunyemi\n",
      "0000-0002-1442-335X, Disha Purohit\n",
      "0000-0002-7917-3101, Elzbieta Gabrys-Deutscher\n",
      "0000-0003-1702-8707, Samaneh Jozashoori\n",
      "0000-0001-8080-5308, Luis Ramos\n",
      "0000-0002-9362-4968, Anna-Karina Renziehausen\n",
      "0000-0003-1043-4964, Anette Ganske\n",
      "0000-0003-4081-9646, Pia Rudnik\n",
      "0000-0002-1452-9509, Anett Hoppe\n",
      "0000-0002-8579-9717, Simon Worthington\n",
      "0000-0003-4040-9073, Gelareh Mofakhamsanie\n",
      "0000-0001-8920-7515, David Hopf\n",
      "0000-0002-2593-8754, Lucia Sohmen\n",
      "0000-0003-0232-7085, Lambert Heller\n",
      "0000-0002-7992-5668, Nelli Taller\n",
      "0000-0002-0310-5831, Sarah Dellmann\n",
      "0000-0001-5839-0177, Andreas Lütjen\n",
      "0000-0002-7325-5114, Brian Cahill\n",
      "0000-0003-3184-5930, Anita Eppelin\n",
      "0000-0002-0474-2410, Stephanie Hagemann-Wilholt\n",
      "0000-0003-2499-7741, Christian Hauschke\n",
      "0000-0002-5124-0165, Benjamin Kampe\n",
      "0000-0002-1019-9151, Susanne Arndt\n",
      "0000-0003-3709-5608, Michelle Lindlar\n"
     ]
    }
   ],
   "source": [
    "# URL for ORCID API\n",
    "ORCID_RECORD_API = \"https://pub.orcid.org/v3.0/\"\n",
    "\n",
    "# query ORCID for an ORCID record\n",
    "def query_orcid_for_record(orcid_id):\n",
    "\n",
    "    response = requests.get(url=requests.utils.requote_uri(ORCID_RECORD_API + orcid_id),\n",
    "                          headers={'Accept': 'application/json'})\n",
    "    response.raise_for_status()\n",
    "    result=response.json()\n",
    "    return result\n",
    "\n",
    "# check if affiliated person is a current employee\n",
    "def is_current_employee(orcid_id, grid_id, ringgold_id):\n",
    "    # get orcid record\n",
    "    orcid_record = query_orcid_for_record(orcid_id)\n",
    "\n",
    "    #filter for current employees only\n",
    "    record_dict = benedict.from_json(orcid_record)\n",
    "    path_to_employments = \"activities-summary.employments.affiliation-group\"\n",
    "    for employment in record_dict.get(path_to_employments):\n",
    "        employment_dict = benedict(employment)\n",
    "        path_to_orga_id = \"summaries[0].employment-summary.organization.disambiguated-organization.disambiguated-organization-identifier\"\n",
    "        path_to_end_date = \"summaries[0].employment-summary.end-date\"\n",
    "\n",
    "        orga_id = employment_dict.get(path_to_orga_id)\n",
    "        end_date = employment_dict.get(path_to_end_date)\n",
    "\n",
    "        return not end_date and (orga_id == grid_id or orga_id == ringgold_id)\n",
    "\n",
    "\n",
    "#--- example execution\n",
    "affiliated_orcids = extract_orcids_from_affiliated_people(affiliated_people)\n",
    "employee_orcids = [t for t in affiliated_orcids if is_current_employee(t[0], organization_grid_id, organization_ringgold_id)]\n",
    "employee_count = len(employee_orcids)\n",
    "print(f\"Number of current employees: {employee_count}\")\n",
    "for orcid,name in employee_orcids:\n",
    "    print(f\"{orcid}, {name}\")"
   ]
  },
  {
   "cell_type": "code",
   "execution_count": 8,
   "metadata": {
    "colab": {
     "base_uri": "https://localhost:8080/"
    },
    "executionInfo": {
     "elapsed": 18,
     "status": "ok",
     "timestamp": 1643285345254,
     "user": {
      "displayName": "",
      "photoUrl": "",
      "userId": ""
     },
     "user_tz": -60
    },
    "id": "_n-0Ac4KbgpG",
    "outputId": "22cd7397-b5d4-4e44-ef76-5daf8ff76028",
    "pycharm": {
     "is_executing": true
    }
   },
   "outputs": [
    {
     "name": "stdout",
     "output_type": "stream",
     "text": [
      "--> For this example we were able to narrow down the result from 90 affiliated people to 59 currently employed people.\n"
     ]
    }
   ],
   "source": [
    "print(f\"--> For this example we were able to narrow down the result from {affiliated_count} affiliated people to {employee_count} currently employed people.\")"
   ]
  }
 ],
 "metadata": {
  "colab": {
   "authorship_tag": "ABX9TyMv/ZeG2/OIfjQKmxDLHbdH",
   "collapsed_sections": [],
   "name": "orcid_get_people_by_organization.ipynb",
   "provenance": [
    {
     "file_id": "https://github.com/Project-TAPIR/pidgraph-notebooks/blob/main/organization-people/orcid_get_people_by_organization.ipynb",
     "timestamp": 1643285403772
    },
    {
     "file_id": "https://github.com/Project-TAPIR/pidgraph-notebooks/blob/organization-people/organization-people/orcid_get_people_by_organization.ipynb",
     "timestamp": 1643211404649
    }
   ]
  },
  "kernelspec": {
   "display_name": "Python 3 (ipykernel)",
   "language": "python",
   "name": "python3"
  },
  "language_info": {
   "codemirror_mode": {
    "name": "ipython",
    "version": 3
   },
   "file_extension": ".py",
   "mimetype": "text/x-python",
   "name": "python",
   "nbconvert_exporter": "python",
   "pygments_lexer": "ipython3",
   "version": "3.9.6"
  }
 },
 "nbformat": 4,
 "nbformat_minor": 1
}
