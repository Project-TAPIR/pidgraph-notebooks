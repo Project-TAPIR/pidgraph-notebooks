{
  "nbformat": 4,
  "nbformat_minor": 0,
  "metadata": {
    "colab": {
      "name": "orcid_get_people_by_organization.ipynb",
      "provenance": [],
      "collapsed_sections": [],
      "authorship_tag": "ABX9TyPDKpwrWMGIs4k5RPV5DJA5"
    },
    "kernelspec": {
      "name": "python3",
      "display_name": "Python 3"
    },
    "language_info": {
      "name": "python"
    }
  },
  "cells": [
    {
      "cell_type": "markdown",
      "source": [
        "### Query ORCID for all people affiliated with an organization and filter for current employees only\n",
        "\n",
        "This notebook queries the ORCID API for all people affiliated with an organization. It takes a ROR URL as input and outputs all ORCIDs belonging to people affiliated with the respective organization. Additionally the affiliation is narrowed down to people **currently employed** by the organization."
      ],
      "metadata": {
        "id": "u4HQPvDxKyjs"
      }
    },
    {
      "cell_type": "code",
      "execution_count": null,
      "metadata": {
        "id": "5s5h9I5OKefn"
      },
      "outputs": [],
      "source": [
        "# needed dependency to make HTTP calls\n",
        "import requests\n",
        "# dependencies for dealing with json\n",
        "import pprint\n",
        "!pip install python-benedict\n",
        "from benedict import benedict"
      ]
    },
    {
      "cell_type": "markdown",
      "source": [
        "### Organization metadata\n",
        "First we retrieve the metadata associated with an organization. The input value for the computation is a ROR id or ROR URL."
      ],
      "metadata": {
        "id": "JqXxTHg026Tk"
      }
    },
    {
      "cell_type": "code",
      "source": [
        "example_ror=\"https://ror.org/04aj4c181\""
      ],
      "metadata": {
        "id": "tAoAtVZP25JT"
      },
      "execution_count": 2,
      "outputs": []
    },
    {
      "cell_type": "markdown",
      "source": [
        "The first step is to call the ROR API for the organization's metadata."
      ],
      "metadata": {
        "id": "mmV5ar17CiSO"
      }
    },
    {
      "cell_type": "code",
      "source": [
        "# URL for ROR API\n",
        "ROR_API_ENDPOINT = \"https://api.ror.org/organizations\"\n",
        "\n",
        "# query ROR API for organization's metadata\n",
        "def query_ror_api(ror):\n",
        "  response = requests.get(url=requests.utils.requote_uri(ROR_API_ENDPOINT + \"/\" + ror),\n",
        "                          headers={'Content-Type': 'application/json'})\n",
        "  result=response.json()\n",
        "\n",
        "  return result\n",
        "\n",
        "# example execution\n",
        "ror_data=query_ror_api(example_ror)\n",
        "pprint.pprint(ror_data)"
      ],
      "metadata": {
        "colab": {
          "base_uri": "https://localhost:8080/"
        },
        "id": "FKpMNpLLLYaZ",
        "outputId": "386328c8-2e79-475d-8ffc-1c132caf143b"
      },
      "execution_count": 3,
      "outputs": [
        {
          "output_type": "stream",
          "name": "stdout",
          "text": [
            "{'acronyms': ['TIB'],\n",
            " 'addresses': [{'city': 'Hanover',\n",
            "                'country_geonames_id': 2921044,\n",
            "                'geonames_city': {'city': 'Hannover',\n",
            "                                  'geonames_admin1': {'ascii_name': 'Lower '\n",
            "                                                                    'Saxony',\n",
            "                                                      'code': 'DE.06',\n",
            "                                                      'id': 2862926,\n",
            "                                                      'name': 'Lower Saxony'},\n",
            "                                  'geonames_admin2': {'ascii_name': None,\n",
            "                                                      'code': None,\n",
            "                                                      'id': None,\n",
            "                                                      'name': None},\n",
            "                                  'id': 2910831,\n",
            "                                  'license': {'attribution': 'Data from '\n",
            "                                                             'geonames.org '\n",
            "                                                             'under a CC-BY '\n",
            "                                                             '3.0 license',\n",
            "                                              'license': 'http://creativecommons.org/licenses/by/3.0/'},\n",
            "                                  'nuts_level1': {'code': 'DE9',\n",
            "                                                  'name': 'NIEDERSACHSEN'},\n",
            "                                  'nuts_level2': {'code': 'DE92',\n",
            "                                                  'name': 'Hannover'},\n",
            "                                  'nuts_level3': {'code': 'DE929',\n",
            "                                                  'name': 'Region Hannover'}},\n",
            "                'lat': 52.381433,\n",
            "                'line': None,\n",
            "                'lng': 9.72007,\n",
            "                'postcode': None,\n",
            "                'primary': False,\n",
            "                'state': None,\n",
            "                'state_code': None}],\n",
            " 'aliases': ['Technische Informationsbibliothek (TIB) - '\n",
            "             'Leibniz-Informationszentrum Technik und Naturwissenschaften - '\n",
            "             'Universitätsbibliothek',\n",
            "             'German National Library of Science and Technology (TIB) - '\n",
            "             'Leibniz Information Centre for Science and Technology - '\n",
            "             'University Library'],\n",
            " 'country': {'country_code': 'DE', 'country_name': 'Germany'},\n",
            " 'email_address': None,\n",
            " 'established': 1959,\n",
            " 'external_ids': {'GRID': {'all': 'grid.461819.3',\n",
            "                           'preferred': 'grid.461819.3'},\n",
            "                  'ISNI': {'all': ['0000 0001 2174 6694'], 'preferred': None},\n",
            "                  'OrgRef': {'all': ['35916736'], 'preferred': None},\n",
            "                  'Wikidata': {'all': ['Q2399120'], 'preferred': None}},\n",
            " 'id': 'https://ror.org/04aj4c181',\n",
            " 'ip_addresses': [],\n",
            " 'labels': [{'iso639': 'de', 'label': 'Technische Informationsbibliothek'}],\n",
            " 'links': ['https://www.tib.eu/en/'],\n",
            " 'name': 'German National Library of Science and Technology',\n",
            " 'relationships': [{'id': 'https://ror.org/01n6r0e97',\n",
            "                    'label': 'Leibniz Association',\n",
            "                    'type': 'Parent'}],\n",
            " 'status': 'active',\n",
            " 'types': ['Archive'],\n",
            " 'wikipedia_url': 'https://en.wikipedia.org/wiki/German_National_Library_of_Science_and_Technology'}\n"
          ]
        }
      ]
    },
    {
      "cell_type": "markdown",
      "source": [
        "In particular we are interested in the organization's grid ID and Wikidata ID."
      ],
      "metadata": {
        "id": "mxOGfasxMAaA"
      }
    },
    {
      "cell_type": "code",
      "source": [
        "def extract_grid_from_ror_data(ror_data):\n",
        "  orga_dict = benedict.from_json(ror_data)\n",
        "  path_to_grid_id = \"external_ids.GRID.all\"\n",
        "  grid_id = orga_dict.get(path_to_grid_id)\n",
        "  return grid_id\n",
        "\n",
        "def extract_wikidata_from_ror_data(ror_data):\n",
        "  orga_dict = benedict.from_json(ror_data)\n",
        "  path_to_wikidata_id = \"external_ids.Wikidata.all[0]\"\n",
        "  wikidata_id = orga_dict.get(path_to_wikidata_id)\n",
        "  return wikidata_id\n",
        "\n",
        "\n",
        "# example execution\n",
        "organization_grid_id=extract_grid_from_ror_data(ror_data)\n",
        "print(\"grid ID: \" + organization_grid_id)\n",
        "organization_wikidata_id=extract_wikidata_from_ror_data(ror_data)\n",
        "print(\"Wikidata ID: \" + organization_wikidata_id)"
      ],
      "metadata": {
        "colab": {
          "base_uri": "https://localhost:8080/"
        },
        "id": "wSwVZgSELik3",
        "outputId": "72daccea-e89b-4a81-85bd-3aeb38715409"
      },
      "execution_count": 4,
      "outputs": [
        {
          "output_type": "stream",
          "name": "stdout",
          "text": [
            "grid ID: grid.461819.3\n",
            "Wikidata ID: Q2399120\n"
          ]
        }
      ]
    },
    {
      "cell_type": "markdown",
      "source": [
        "We use the Wikidata ID of the organization to query Wikidata for the Ringgold ID of the organization."
      ],
      "metadata": {
        "id": "oLZD9V1lzyQ4"
      }
    },
    {
      "cell_type": "code",
      "source": [
        "WIKIDATA_API = \"https://www.wikidata.org/w/api.php\"\n",
        "\n",
        "# query Wikidata with an organization's Wikidata ID\n",
        "def query_wikidata_api(wikidata_id):\n",
        "\n",
        "  response = requests.get(url=WIKIDATA_API,\n",
        "                          params={'action': 'wbgetentities', 'ids': wikidata_id, 'props':'claims', 'format':'json'},\n",
        "                          headers={'Content-Type': 'application/json'})\n",
        "  result=response.json()\n",
        "  return result\n",
        "\n",
        "def extract_ringgold_from_wikidata_data(wikidata, wikidata_id):\n",
        "  wikidata_dict = benedict.from_json(wikidata)\n",
        "  path_to_ringgold_id = f\"entities.{wikidata_id}.claims.P3500[0].mainsnak.datavalue.value\"\n",
        "  ringgold_id = wikidata_dict.get(path_to_ringgold_id)\n",
        "  return ringgold_id\n",
        "\n",
        "\n",
        "# example execution\n",
        "wikidata_data = query_wikidata_api(organization_wikidata_id)\n",
        "#pprint.pprint(wikidata_data)\n",
        "organization_ringgold_id = extract_ringgold_from_wikidata_data(wikidata_data, organization_wikidata_id)\n",
        "print(\"Ringgold ID: \" + str(organization_ringgold_id or ''))"
      ],
      "metadata": {
        "colab": {
          "base_uri": "https://localhost:8080/"
        },
        "id": "v8S4dwfM0A-1",
        "outputId": "5a0df363-9a58-418b-efa0-b288d215f7ba"
      },
      "execution_count": 5,
      "outputs": [
        {
          "output_type": "stream",
          "name": "stdout",
          "text": [
            "Ringgold ID: 28359\n"
          ]
        }
      ]
    },
    {
      "cell_type": "markdown",
      "source": [
        "To sum up the process up until now:\n",
        "1.   We used an organization's ROR ID to query the ROR API for an organization's grid ID and Wikidata ID. \n",
        "2. We use Wikidata as intermediary to retrieve the Ringgold ID of the organization.\n",
        "\n",
        "![organization_data.png](data:image/png;base64,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)"
      ],
      "metadata": {
        "id": "Tx8YWNLZ7_fx"
      }
    },
    {
      "cell_type": "markdown",
      "source": [
        "### Connection organization -> people\n",
        "The second part of the process is to query for the people affiliated with the organization. For this we use the ORCID API and search for people affiliated with an organization like it is explained in the ORCID tutorial [\"How do I find ORCID record holders at my institution?\"](https://info.orcid.org/faq/how-do-i-find-orcid-record-holders-at-my-institution/). As parameters for the query we use the Grid ID and Ringgold ID for the organization.\n"
      ],
      "metadata": {
        "id": "tQ0ZhMZk_Wcz"
      }
    },
    {
      "cell_type": "code",
      "source": [
        "ORCID_SEARCH_API = \"https://pub.orcid.org/v3.0/search/\"\n",
        "\n",
        "# query ORCID with an organization's Grid ID and Ringgold\n",
        "def query_orcid_for_affiliations(grid_id, ringgold_id):\n",
        "  query = f\"grid-org-id:{grid_id}\" if grid_id else \"\"\n",
        "  query += \" OR \" if grid_id and ringgold_id else \"\"\n",
        "  query += f\"ringgold-org-id:{ringgold_id}\" if ringgold_id else \"\"\n",
        "\n",
        "  response = requests.get(url=ORCID_SEARCH_API,\n",
        "                          params={'q': query},\n",
        "                          headers={'Content-Type': 'application/json', 'Accept': 'application/json'})\n",
        "  result=response.json()\n",
        "  return result\n",
        "\n",
        "def extract_orcids_from_affiliated_people(affiliated_people):\n",
        "  people_dict = benedict.from_json(affiliated_people)\n",
        "  for person in people_dict.get('result'):\n",
        "    orcid=benedict(person).get('orcid-identifier.path')\n",
        "    yield orcid\n",
        "\n",
        "# example execution\n",
        "affiliated_people = query_orcid_for_affiliations(organization_grid_id, organization_ringgold_id)\n",
        "#pprint.pprint(affiliated_people)\n",
        "print(f\"Number of affiliated people: {affiliated_people.get('num-found','')}\")\n",
        "affiliated_orcids= extract_orcids_from_affiliated_people(affiliated_people)\n",
        "for orcid in affiliated_orcids:\n",
        "  print(orcid)"
      ],
      "metadata": {
        "colab": {
          "base_uri": "https://localhost:8080/"
        },
        "id": "LwhzE2Nc_J-x",
        "outputId": "25841282-7b94-445f-f55b-7ddb56065a6f"
      },
      "execution_count": 6,
      "outputs": [
        {
          "output_type": "stream",
          "name": "stdout",
          "text": [
            "Number of affiliated people: 89\n",
            "0000-0003-3922-8638\n",
            "0000-0002-5610-9908\n",
            "0000-0003-2749-7988\n",
            "0000-0001-9758-904X\n",
            "0000-0003-2718-0913\n",
            "0000-0002-2614-1253\n",
            "0000-0002-1266-4029\n",
            "0000-0003-0929-7528\n",
            "0000-0002-4311-5620\n",
            "0000-0001-5135-5758\n",
            "0000-0002-3680-2086\n",
            "0000-0001-7408-0611\n",
            "0000-0002-6347-5666\n",
            "0000-0002-2874-4832\n",
            "0000-0001-5375-3063\n",
            "0000-0003-1574-4865\n",
            "0000-0002-4450-349X\n",
            "0000-0001-5322-0478\n",
            "0000-0002-1407-7362\n",
            "0000-0001-5336-6899\n",
            "0000-0001-5492-3212\n",
            "0000-0003-1668-3304\n",
            "0000-0002-6802-1241\n",
            "0000-0001-9248-5444\n",
            "0000-0003-2257-0517\n",
            "0000-0002-3060-7052\n",
            "0000-0001-5693-4708\n",
            "0000-0002-0938-0340\n",
            "0000-0002-0698-2864\n",
            "0000-0003-2510-0529\n",
            "0000-0002-2342-0636\n",
            "0000-0002-9362-4968\n",
            "0000-0003-3320-5187\n",
            "0000-0002-0021-9729\n",
            "0000-0003-0524-1834\n",
            "0000-0001-8824-8390\n",
            "0000-0002-7760-5708\n",
            "0000-0002-0719-5440\n",
            "0000-0003-1537-2862\n",
            "0000-0001-6260-7578\n",
            "0000-0002-5320-0220\n",
            "0000-0003-1132-7220\n",
            "0000-0002-0474-2410\n",
            "0000-0002-3278-0422\n",
            "0000-0002-3447-0575\n",
            "0000-0002-1851-0442\n",
            "0000-0002-7917-3101\n",
            "0000-0002-1442-335X\n",
            "0000-0002-1019-3606\n",
            "0000-0002-9649-7829\n",
            "0000-0002-5124-0165\n",
            "0000-0003-3184-5930\n",
            "0000-0003-1702-8707\n",
            "0000-0001-9133-4978\n",
            "0000-0001-8080-5308\n",
            "0000-0001-7086-6211\n",
            "0000-0002-1452-9509\n",
            "0000-0002-8579-9717\n",
            "0000-0002-1019-9151\n",
            "0000-0002-9767-3257\n",
            "0000-0003-4040-9073\n",
            "0000-0003-0226-3608\n",
            "0000-0001-8920-7515\n",
            "0000-0002-2593-8754\n",
            "0000-0001-5712-1565\n",
            "0000-0001-6836-1193\n",
            "0000-0003-0232-7085\n",
            "0000-0002-3557-9345\n",
            "0000-0002-7325-5114\n",
            "0000-0002-3075-7640\n",
            "0000-0002-7839-3698\n",
            "0000-0002-1595-3213\n",
            "0000-0002-7992-5668\n",
            "0000-0003-3709-5608\n",
            "0000-0003-2499-7741\n",
            "0000-0001-5839-0177\n",
            "0000-0002-0310-5831\n",
            "0000-0001-7460-7794\n",
            "0000-0003-1043-4964\n",
            "0000-0003-1800-0351\n",
            "0000-0001-8258-2603\n",
            "0000-0001-9924-9153\n",
            "0000-0003-2237-7725\n",
            "0000-0002-8913-9011\n",
            "0000-0002-2013-6920\n",
            "0000-0001-5232-9236\n",
            "0000-0003-3975-5374\n",
            "0000-0002-0687-5460\n",
            "0000-0001-8777-2780\n"
          ]
        }
      ]
    },
    {
      "cell_type": "markdown",
      "source": [
        "The connection between organization and people via their affiliation as defined by the ORCID API is quite abroad: \n",
        "\n",
        "*   It contains each person that used the organization identifier in one of the sections [employment, education & qualifications, membership & service, invited positions & distinctions](https://info.orcid.org/documentation/integration-guide/working-with-organization-identifiers/) in their ORCID record.\n",
        "* Furthermore the connection is not limited to the current affiliation but also contains people that were affiliated with the organization years ago.\n",
        "\n",
        "--> \n",
        "\n",
        "That's why we decided to use the ORCIDs we retrieve via the search API and query the ORCID API for each of their detailed record to narrow the result set down to only people who \n",
        "* use one of the organization's IDs in the employment section\n",
        "* and that are currently employed (end-date of employment is empty)"
      ],
      "metadata": {
        "id": "DUMnQM62MXns"
      }
    },
    {
      "cell_type": "code",
      "source": [
        "ORCID_RECORD_API = \"https://pub.orcid.org/v3.0/\"\n",
        "\n",
        "# query ORCID for an ORCID record\n",
        "def query_orcid_for_record(orcid_id):\n",
        "\n",
        "  response = requests.get(url=requests.utils.requote_uri(ORCID_RECORD_API + orcid_id),\n",
        "                          headers={'Content-Type': 'application/json', 'Accept': 'application/json'})\n",
        "  result=response.json()\n",
        "  return result\n",
        "\n",
        "# check if affiliated person is a current employee\n",
        "def is_current_employee(orcid_id, grid_id, ringgold_id):\n",
        "  # get orcid record\n",
        "  orcid_record = query_orcid_for_record(orcid_id)\n",
        "\n",
        "  #filter for current employees only\n",
        "  record_dict = benedict.from_json(orcid_record)\n",
        "  path_to_employments = \"activities-summary.employments.affiliation-group\"\n",
        "  for employment in record_dict.get(path_to_employments):\n",
        "    employment_dict = benedict(employment)\n",
        "    path_to_orga_id = \"summaries[0].employment-summary.organization.disambiguated-organization.disambiguated-organization-identifier\"\n",
        "    path_to_end_date = \"summaries[0].employment-summary.end-date\"\n",
        "\n",
        "    orga_id = employment_dict.get(path_to_orga_id)\n",
        "    end_date = employment_dict.get(path_to_end_date)\n",
        "\n",
        "    return not end_date and (orga_id == grid_id or orga_id == ringgold_id)\n",
        "\n",
        "\n",
        "# example execution\n",
        "affiliated_orcids = extract_orcids_from_affiliated_people(affiliated_people)\n",
        "employee_orcids = [orcid_id for orcid_id in affiliated_orcids if is_current_employee(orcid_id, organization_grid_id, organization_ringgold_id)]\n",
        "print(f\"Number of current employees: {len(employee_orcids)}\")\n",
        "for orcid_id in employee_orcids:\n",
        "  print(orcid_id)"
      ],
      "metadata": {
        "colab": {
          "base_uri": "https://localhost:8080/"
        },
        "id": "6Ac2mk4vOz1A",
        "outputId": "237613d4-ba97-417d-959d-b113d2c1f865"
      },
      "execution_count": 7,
      "outputs": [
        {
          "output_type": "stream",
          "name": "stdout",
          "text": [
            "Number of current employees: 59\n",
            "0000-0003-3922-8638\n",
            "0000-0002-5610-9908\n",
            "0000-0003-2749-7988\n",
            "0000-0001-9758-904X\n",
            "0000-0003-2718-0913\n",
            "0000-0002-2614-1253\n",
            "0000-0003-0929-7528\n",
            "0000-0001-5135-5758\n",
            "0000-0002-3680-2086\n",
            "0000-0002-6347-5666\n",
            "0000-0002-2874-4832\n",
            "0000-0001-5375-3063\n",
            "0000-0003-1574-4865\n",
            "0000-0001-5322-0478\n",
            "0000-0002-1407-7362\n",
            "0000-0001-5336-6899\n",
            "0000-0001-5492-3212\n",
            "0000-0002-6802-1241\n",
            "0000-0001-9248-5444\n",
            "0000-0002-3060-7052\n",
            "0000-0002-0938-0340\n",
            "0000-0002-0698-2864\n",
            "0000-0003-2510-0529\n",
            "0000-0002-2342-0636\n",
            "0000-0002-9362-4968\n",
            "0000-0001-8824-8390\n",
            "0000-0002-0719-5440\n",
            "0000-0001-6260-7578\n",
            "0000-0003-1132-7220\n",
            "0000-0002-0474-2410\n",
            "0000-0002-3278-0422\n",
            "0000-0002-3447-0575\n",
            "0000-0002-1851-0442\n",
            "0000-0002-7917-3101\n",
            "0000-0002-1442-335X\n",
            "0000-0002-5124-0165\n",
            "0000-0003-3184-5930\n",
            "0000-0003-1702-8707\n",
            "0000-0001-8080-5308\n",
            "0000-0002-1452-9509\n",
            "0000-0002-8579-9717\n",
            "0000-0002-1019-9151\n",
            "0000-0003-4040-9073\n",
            "0000-0003-0226-3608\n",
            "0000-0001-8920-7515\n",
            "0000-0002-2593-8754\n",
            "0000-0001-6836-1193\n",
            "0000-0003-0232-7085\n",
            "0000-0002-7325-5114\n",
            "0000-0002-1595-3213\n",
            "0000-0002-7992-5668\n",
            "0000-0003-3709-5608\n",
            "0000-0003-2499-7741\n",
            "0000-0001-5839-0177\n",
            "0000-0002-0310-5831\n",
            "0000-0003-1043-4964\n",
            "0000-0002-8913-9011\n",
            "0000-0002-2013-6920\n",
            "0000-0003-3975-5374\n"
          ]
        }
      ]
    },
    {
      "cell_type": "markdown",
      "source": [
        "--> For this example we were able to narrow down the result from 89 affiliated people to 59 currently employed people."
      ],
      "metadata": {
        "id": "3oj7LKIlZBgT"
      }
    }
  ]
}
