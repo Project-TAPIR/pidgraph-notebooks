{
 "cells": [
  {
   "cell_type": "markdown",
   "metadata": {
    "id": "0-62NAVa8DL0"
   },
   "source": [
    "### Query ROR for an organization and the hierarchy of sub-organizations below it\n",
    "\n",
    "This notebook queries the [ROR API](https://ror.readme.io/) to construct a hierarchy of sub-organizations starting at a given organization. It takes a ROR URL or ID which is used to retrieve the organizations specified in the metadata field \"`relationships`\" with `\"type\"=Child` recursively to build a tree structure. The tree represents the hierarchy of sub-organizations and will be outputted.\n"
   ]
  },
  {
   "cell_type": "code",
   "execution_count": null,
   "metadata": {
    "id": "VaYUrh5n2iq9",
    "scrolled": true
   },
   "outputs": [],
   "source": [
    "# Prerequisites:\n",
    "!pip install requests\n",
    "import requests                        # dependency to make HTTP calls\n",
    "!pip install anytree\n",
    "from anytree import Node, RenderTree   # dependency to construct tree structure"
   ]
  },
  {
   "cell_type": "markdown",
   "metadata": {
    "id": "YmmrIwjv3QqG"
   },
   "source": [
    "The input value for all following queries is a ROR URL or ID, e.g. '`https://ror.org/03vek6s52`' or '`03vek6s52`'."
   ]
  },
  {
   "cell_type": "code",
   "execution_count": 2,
   "metadata": {
    "executionInfo": {
     "elapsed": 19,
     "status": "ok",
     "timestamp": 1643279169086,
     "user": {
      "displayName": "Sandra M",
      "photoUrl": "https://lh3.googleusercontent.com/a-/AOh14GjjehryRcYlqHNFf_9Q6slGN_VZPE0y5QkvOxzG=s64",
      "userId": "04602594913862593282"
     },
     "user_tz": -60
    },
    "id": "UhY0RQcU3Q1Z"
   },
   "outputs": [],
   "source": [
    "# input parameter\n",
    "example_ror=\"https://ror.org/03vek6s52\""
   ]
  },
  {
   "cell_type": "markdown",
   "metadata": {
    "id": "4MApaFfD6knr"
   },
   "source": [
    "We may use it to query the ROR API once for the organization's metadata..."
   ]
  },
  {
   "cell_type": "code",
   "execution_count": 3,
   "metadata": {
    "executionInfo": {
     "elapsed": 16,
     "status": "ok",
     "timestamp": 1643279169087,
     "user": {
      "displayName": "Sandra M",
      "photoUrl": "https://lh3.googleusercontent.com/a-/AOh14GjjehryRcYlqHNFf_9Q6slGN_VZPE0y5QkvOxzG=s64",
      "userId": "04602594913862593282"
     },
     "user_tz": -60
    },
    "id": "YpwZ3mrC3dHO"
   },
   "outputs": [],
   "source": [
    "# URL to ROR API\n",
    "ROR_API_ENDPOINT = \"https://api.ror.org/organizations\"\n",
    "\n",
    "# query ROR API for organization's metadata\n",
    "def query_ror_api(ror):\n",
    "    complete_url=requests.utils.requote_uri(ROR_API_ENDPOINT + \"/\" + ror)\n",
    "    response = requests.get(url=complete_url,\n",
    "                      headers={'Accept': 'application/json'})\n",
    "    response.raise_for_status()\n",
    "    result=response.json()\n",
    "    return result\n",
    "\n",
    "\n",
    "#---- example execution\n",
    "# uncomment following lines to see the metadata for specified example_ror\n",
    "#import pprint\n",
    "#organization = query_ror_api(example_ror)\n",
    "#pprint.pprint(organization)"
   ]
  },
  {
   "cell_type": "markdown",
   "metadata": {
    "id": "T25jtRBf3c1T"
   },
   "source": [
    "But in this notebook we use it as a starting point to recursively query the ROR API using the relationship type \"`Child`\" to construct the organizational hierarchy below it."
   ]
  },
  {
   "cell_type": "code",
   "execution_count": 4,
   "metadata": {
    "colab": {
     "base_uri": "https://localhost:8080/"
    },
    "executionInfo": {
     "elapsed": 6559,
     "status": "ok",
     "timestamp": 1643279175634,
     "user": {
      "displayName": "Sandra M",
      "photoUrl": "https://lh3.googleusercontent.com/a-/AOh14GjjehryRcYlqHNFf_9Q6slGN_VZPE0y5QkvOxzG=s64",
      "userId": "04602594913862593282"
     },
     "user_tz": -60
    },
    "id": "4jh1liI56A4x",
    "outputId": "ea1cbf18-6c90-4aa3-bfcb-10addcaa9e8f"
   },
   "outputs": [
    {
     "name": "stdout",
     "output_type": "stream",
     "text": [
      "Node('/Harvard University')\n",
      "├── Node('/Harvard University/Athinoula A. Martinos Center for Biomedical Imaging')\n",
      "├── Node('/Harvard University/Berenson Allen Center for Noninvasive Brain Stimulation')\n",
      "├── Node('/Harvard University/Center for Astrophysics Harvard & Smithsonian')\n",
      "│   ├── Node('/Harvard University/Center for Astrophysics Harvard & Smithsonian/Harvard College Observatory')\n",
      "│   └── Node('/Harvard University/Center for Astrophysics Harvard & Smithsonian/Smithsonian Astrophysical Observatory')\n",
      "├── Node('/Harvard University/Center for Systems Biology')\n",
      "├── Node('/Harvard University/Center for Vascular Biology Research')\n",
      "├── Node('/Harvard University/Gordon Center for Medical Imaging')\n",
      "├── Node('/Harvard University/Harvard Stem Cell Institute')\n",
      "├── Node('/Harvard University/Harvard University Press')\n",
      "├── Node('/Harvard University/MIT-Harvard Center for Ultracold Atoms')\n",
      "├── Node('/Harvard University/Ragon Institute of MGH, MIT and Harvard')\n",
      "├── Node('/Harvard University/Sleep and Human Health Institute')\n",
      "└── Node('/Harvard University/The NSF AI Institute for Artificial Intelligence and Fundamental Interactions')\n"
     ]
    }
   ],
   "source": [
    "# construct organizational tree recursively starting at given ROR\n",
    "def construct_tree(ror, parent=None):\n",
    "    organization = query_ror_api(ror)\n",
    "    current_node = Node(organization[\"name\"], parent=parent)\n",
    "\n",
    "    for rel in organization['relationships']:\n",
    "        if rel[\"type\"]==\"Child\":\n",
    "            construct_tree(rel[\"id\"], current_node)\n",
    "\n",
    "    return current_node\n",
    "\n",
    "\n",
    "#---- example execution\n",
    "organigram = construct_tree(example_ror)\n",
    "print(RenderTree(organigram))"
   ]
  }
 ],
 "metadata": {
  "colab": {
   "authorship_tag": "ABX9TyPEl1r8wtGqaTN4CJj87Lso",
   "name": "ror-organigram.ipynb",
   "provenance": [
    {
     "file_id": "1yJn6R6ixeEZFU47XyeZsTiqhU-W7AS2H",
     "timestamp": 1643279199327
    }
   ]
  },
  "kernelspec": {
   "display_name": "Python 3 (ipykernel)",
   "language": "python",
   "name": "python3"
  },
  "language_info": {
   "codemirror_mode": {
    "name": "ipython",
    "version": 3
   },
   "file_extension": ".py",
   "mimetype": "text/x-python",
   "name": "python",
   "nbconvert_exporter": "python",
   "pygments_lexer": "ipython3",
   "version": "3.9.6"
  }
 },
 "nbformat": 4,
 "nbformat_minor": 1
}
