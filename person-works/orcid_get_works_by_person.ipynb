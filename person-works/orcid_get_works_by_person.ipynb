{
 "cells": [
  {
   "cell_type": "markdown",
   "metadata": {
    "id": "zXRmiQOY9GRv"
   },
   "source": [
    "### Query ORCID for works authored by a person\n",
    "\n",
    "This notebook queries the [ORCID API](https://pub.orcid.org/v3.0/) to retrieve all works listed in a person's ORCID profile. It takes an ORCID URL or iD as input to retrieve the ORCID profile of a person and the works listed on it. From the list of works we output their respective DOIs."
   ]
  },
  {
   "cell_type": "code",
   "execution_count": null,
   "metadata": {
    "id": "8OqUUX037qB4",
    "scrolled": true
   },
   "outputs": [],
   "source": [
    "# Prerequisites:\n",
    "!pip install requests\n",
    "import requests                        # dependency to make HTTP calls\n",
    "!pip install python-benedict\n",
    "from benedict import benedict          # dependency for dealing with json"
   ]
  },
  {
   "cell_type": "markdown",
   "metadata": {
    "id": "G3oSBrNo8rb-"
   },
   "source": [
    "The input for the query is an ORCID URL or ORCID iD, e.g. '`https://orcid.org/0000-0003-2499-7741`' or '`0000-0003-2499-7741`'."
   ]
  },
  {
   "cell_type": "code",
   "execution_count": 2,
   "metadata": {
    "executionInfo": {
     "elapsed": 20,
     "status": "ok",
     "timestamp": 1643202545770,
     "user": {
      "displayName": "Sandra M",
      "photoUrl": "https://lh3.googleusercontent.com/a-/AOh14GjjehryRcYlqHNFf_9Q6slGN_VZPE0y5QkvOxzG=s64",
      "userId": "04602594913862593282"
     },
     "user_tz": -60
    },
    "id": "I_KWAcmq98no"
   },
   "outputs": [],
   "source": [
    "# input parameter\n",
    "example_orcid=\"https://orcid.org/0000-0003-2499-7741\""
   ]
  },
  {
   "cell_type": "markdown",
   "metadata": {
    "id": "sD-zpjgT9_rn"
   },
   "source": [
    "We use it to query ORCID for the person's metadata and all works connected to them."
   ]
  },
  {
   "cell_type": "code",
   "execution_count": 3,
   "metadata": {
    "executionInfo": {
     "elapsed": 685,
     "status": "ok",
     "timestamp": 1643202546441,
     "user": {
      "displayName": "Sandra M",
      "photoUrl": "https://lh3.googleusercontent.com/a-/AOh14GjjehryRcYlqHNFf_9Q6slGN_VZPE0y5QkvOxzG=s64",
      "userId": "04602594913862593282"
     },
     "user_tz": -60
    },
    "id": "qH6LfmWH-HLs"
   },
   "outputs": [],
   "source": [
    "# URL for ORCID API\n",
    "ORCID_RECORD_API = \"https://pub.orcid.org/v3.0/\"\n",
    "\n",
    "# query ORCID for an ORCID record\n",
    "def query_orcid_for_record(orcid_id):\n",
    "\n",
    "    response = requests.get(url=requests.utils.requote_uri(ORCID_RECORD_API + orcid_id),\n",
    "                          headers={'Accept': 'application/json'})\n",
    "    response.raise_for_status()\n",
    "    result=response.json()\n",
    "    return result\n",
    "\n",
    "\n",
    "#-- example execution\n",
    "orcid_id=example_orcid.replace(\"https://orcid.org/\", \"\")\n",
    "orcid_record=query_orcid_for_record(orcid_id)\n",
    "# uncomment next lines to see complete metadata for given ORCID\n",
    "#import pprint\n",
    "#pprint.pprint(orcid_data)"
   ]
  },
  {
   "cell_type": "markdown",
   "metadata": {
    "id": "gZ43Wyp7_qVu"
   },
   "source": [
    "From the complete ORCID metadata we extract the works section and print out title and DOI of each first work-summary (the first item in a personal information section has the highest [display index](https://info.orcid.org/documentation/integration-guide/orcid-record/#Display_index))."
   ]
  },
  {
   "cell_type": "code",
   "execution_count": 4,
   "metadata": {
    "colab": {
     "base_uri": "https://localhost:8080/"
    },
    "executionInfo": {
     "elapsed": 12,
     "status": "ok",
     "timestamp": 1643202546444,
     "user": {
      "displayName": "Sandra M",
      "photoUrl": "https://lh3.googleusercontent.com/a-/AOh14GjjehryRcYlqHNFf_9Q6slGN_VZPE0y5QkvOxzG=s64",
      "userId": "04602594913862593282"
     },
     "user_tz": -60
    },
    "id": "Xn1ttd1L__vA",
    "outputId": "7e726c92-df32-43db-c3d7-800c4160d9ea"
   },
   "outputs": [
    {
     "name": "stdout",
     "output_type": "stream",
     "text": [
      "10.3389/frma.2021.694307, Enhancing Knowledge Graph Extraction and Validation From Scholarly Publications Using Bibliographic Metadata\n",
      "10.3897/rio.7.e66264, OPTIMETA – Strengthening the Open Access publishing system through open citations and spatiotemporal metadata \n",
      "10.1080/19386389.2021.1999156, Roadmap to FAIR Research Information in Open Infrastructures\n",
      "10.5281/zenodo.3900193, Research Profile Ownership through User Studies: A Case Study in the German National Research System\n",
      "10.5281/zenodo.3896517, AEON - Towards an Academic Events Ontology\n",
      "10.31263/voebm.v72i2.2808, Open Science und die Bibliothek – Aktionsfelder und Berufsbild\n",
      "10.5281/zenodo.3242680, ROSI – Open Metrics for Open Repositories\n",
      "10.5281/zenodo.3243485, Registry of [Open] Scientometric Data Sources – Technische Evaluierung von Offenen Datenquellen\n",
      "10.1016/j.procs.2019.01.074, The Research Core Dataset (KDSF) in the Linked Data context\n",
      "10.3897/rio.4.e31656, Reference implementation for open scientometric indicators (ROSI)\n",
      "10.5281/ZENODO.1287885, Supporting A Vivo Regional Community\n",
      "10.6084/m9.figshare.6465149.v1, User perceptions, feedback, and stories\n",
      "10.5281/zenodo.321651, Umsetzung Des Kdsf-Datenmodells In Vivo\n",
      "10.5446/30808, VIVO - eine Einführung\n",
      "10.5281/ZENODO.60515, Output of webXray analysis of German library websites\n",
      "10.11588/IP.2016.1.28559, Roving Librarians in der Zentralbibliothek der Hochschule Hannover: ein Experiment\n",
      "10.11588/IP.2016.2.32678, Third-Party-Elemente in deutschen Bibliothekswebseiten\n",
      "10.5281/ZENODO.50969, URLs von Webseiten mit Typ Bibliothek aus Lobid.org\n",
      "10.11588/IP.2015.1.18489, Editorial - Willkommen bei der ersten Ausgabe der Informationspraxis!\n",
      "10.11588/IP.2015.2.23784, Erstellung wiederverwendbarer RDF-Geodaten mit Google Refine\n",
      "10.5281/ZENODO.30992, VIVO an der Hochschule Hannover - Beispiel: Forschungsprojekte\n",
      "http://dx.doi.org/10.5281/zenodo.13101, Geodata\n",
      "10.2314/COSCV1, CoScience - Gemeinsam forschen und publizieren mit dem Netz\n",
      "10.6084/M9.FIGSHARE.647329, Members of Deutscher Bibliotheksverband e. V. (dbv)\n",
      "10.18452/8872, Libworld. Biblioblogs global\n",
      "10.1080/00048623.2006.10755322, Teaching Information Literacy with the Lerninformationssystem\n",
      "10.1515/9783110278736.232, Empfehlungen zur Öffnung bibliothekarischer Daten v.1.0 veröffentlicht am 31. Oktober 2011\n",
      "10.1515/bd.2006.40.4.466, Informationsvermittlung: Personalisiertes Lernen in der Bibliothek: das Düsseldorfer Online-Tutorial (DOT) Informationskompetenz\n"
     ]
    }
   ],
   "source": [
    "# extract works section from ORCID profile\n",
    "def extract_works_section(orcid_record):\n",
    "    orcid_dict=benedict.from_json(orcid_record)\n",
    "    works=orcid_dict.get('activities-summary.works.group') or []\n",
    "    return works\n",
    "\n",
    "# for each work in the work section: extract title and DOI\n",
    "def extract_doi(work):\n",
    "    work_dict=benedict.from_json(work)\n",
    "    title=work_dict.get('work-summary[0].title.title.value')\n",
    "    dois= [doi['external-id-value'] for doi in work_dict.get('work-summary[0].external-ids.external-id', []) if doi['external-id-type']==\"doi\"]\n",
    "    # if there is a DOI assigned to the work, the list of dois is not empty and we can extract the first one\n",
    "    doi=dois[0] if dois else None\n",
    "    return doi, title\n",
    "\n",
    "\n",
    "# ---- example execution\n",
    "works=extract_works_section(orcid_record)\n",
    "for work in works:\n",
    "    doi,title = extract_doi(work)\n",
    "    if doi:\n",
    "        print(f\"{doi}, {title}\")"
   ]
  }
 ],
 "metadata": {
  "colab": {
   "authorship_tag": "ABX9TyODvRNkLSMqVZfZ+mPUc8CJ",
   "name": "orcid_get_works_by_person.ipynb",
   "provenance": [
    {
     "file_id": "1KzKd-wQe1zzvp8-tkukdrpXOhEy3on2t",
     "timestamp": 1643202582749
    }
   ]
  },
  "kernelspec": {
   "display_name": "Python 3 (ipykernel)",
   "language": "python",
   "name": "python3"
  },
  "language_info": {
   "codemirror_mode": {
    "name": "ipython",
    "version": 3
   },
   "file_extension": ".py",
   "mimetype": "text/x-python",
   "name": "python",
   "nbconvert_exporter": "python",
   "pygments_lexer": "ipython3",
   "version": "3.9.6"
  }
 },
 "nbformat": 4,
 "nbformat_minor": 1
}
